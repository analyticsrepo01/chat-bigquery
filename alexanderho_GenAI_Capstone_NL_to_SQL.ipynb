{
  "nbformat": 4,
  "nbformat_minor": 0,
  "metadata": {
    "colab": {
      "provenance": []
    },
    "kernelspec": {
      "name": "python3",
      "display_name": "Python 3"
    },
    "language_info": {
      "name": "python"
    }
  },
  "cells": [
    {
      "cell_type": "code",
      "source": [
        " Install Google Cloud Vertex AI\n",
        "!pip install google-cloud-aiplatform\n",
        "# Install langchain\n",
        "! pip install langchain\n",
        "# Install pandas\n",
        "! pip install pandas\n",
        "# Install Python client for Google Search API\n",
        "! pip install google-api-python-client\n",
        "# Install google-cloud-language\n",
        "! pip install google-cloud-language\n",
        "# PDF loader\n",
        "! pip install pypdf"
      ],
      "metadata": {
        "colab": {
          "base_uri": "https://localhost:8080/",
          "height": 131
        },
        "id": "z2XwfWrcyB-8",
        "outputId": "f2976008-ee10-4c2e-c844-a31442f8b2fd"
      },
      "execution_count": null,
      "outputs": [
        {
          "output_type": "error",
          "ename": "SyntaxError",
          "evalue": "ignored",
          "traceback": [
            "\u001b[0;36m  File \u001b[0;32m\"<ipython-input-1-005ef43a8f56>\"\u001b[0;36m, line \u001b[0;32m1\u001b[0m\n\u001b[0;31m    Install Google Cloud Vertex AI\u001b[0m\n\u001b[0m            ^\u001b[0m\n\u001b[0;31mSyntaxError\u001b[0m\u001b[0;31m:\u001b[0m invalid syntax\n"
          ]
        }
      ]
    },
    {
      "cell_type": "code",
      "source": [
        "from google.colab import auth as google_auth\n",
        "google_auth.authenticate_user()"
      ],
      "metadata": {
        "id": "bWYjF2ANyMqw"
      },
      "execution_count": null,
      "outputs": []
    },
    {
      "cell_type": "code",
      "source": [
        "import vertexai\n",
        "from vertexai.preview.language_models import CodeGenerationModel"
      ],
      "metadata": {
        "id": "mFHx3EjAyNVr"
      },
      "execution_count": null,
      "outputs": []
    },
    {
      "cell_type": "code",
      "source": [
        "def nl_to_sql(\n",
        "    prefix_input: str,\n",
        "    ) :\n",
        "    \"\"\"Codey Model Prediction.\"\"\"\n",
        "    vertexai.init(project=\"bark-dataengineering-poc\", location=\"us-central1\")\n",
        "    parameters = {\n",
        "        \"temperature\": 0.5,\n",
        "        \"max_output_tokens\": 256\n",
        "    }\n",
        "    model = CodeGenerationModel.from_pretrained(\"code-bison@001\")\n",
        "    response = model.predict(\n",
        "        prefix = prefix_input,\n",
        "        **parameters\n",
        "    )\n",
        "    print(f\"Question: {QUESTION}\")\n",
        "    print(f\"Response from Model: {response.text}\")"
      ],
      "metadata": {
        "id": "ktlt9C44yX9V"
      },
      "execution_count": null,
      "outputs": []
    },
    {
      "cell_type": "code",
      "source": [
        "def build_prefix(\n",
        "    question_input: str,\n",
        "    ) :\n",
        "\n",
        "    \"\"\"Open prefix file and append question input from user.\"\"\"\n",
        "    file1 = open(\"prefix_file.txt\")\n",
        "    mystuff = file1.read()\n",
        "    mystuff += \"Question: {}\\nSQL result: \".format(question_input)\n",
        "    nl_to_sql(mystuff)"
      ],
      "metadata": {
        "id": "BGPl5g1HyXx4"
      },
      "execution_count": null,
      "outputs": []
    },
    {
      "cell_type": "code",
      "source": [
        "_prefix_file = 'prefix_file.txt'"
      ],
      "metadata": {
        "id": "QeofS7XdyXqN"
      },
      "execution_count": null,
      "outputs": []
    },
    {
      "cell_type": "code",
      "source": [
        "QUESTION = \"Top 3 user id with highest number of orders from order_line_items\""
      ],
      "metadata": {
        "id": "gUyzrUwryeqJ"
      },
      "execution_count": null,
      "outputs": []
    },
    {
      "cell_type": "code",
      "source": [
        "%%writefile {_prefix_file}\n",
        "You are a database engineer that has profound SQL skills. You are using the following schema as reference to the database. Combine tables using JOIN if needed.\n",
        "\n",
        "Schema =\n",
        "[\n",
        "    {\n",
        "        \"table_name\": \"surveys\",\n",
        "        \"column_names\": [\n",
        "            primary_order_id,\n",
        "            survey_type,\n",
        "            survey_responded\n",
        "         ]\n",
        "     }, {\n",
        "        \"table_name\": \"order_line_items\",\n",
        "        \"column_names\": [\n",
        "            source_system,\n",
        "            primary_order_id,\n",
        "            order_id,\n",
        "            user_id,\n",
        "            order_line_item_quantity,\n",
        "            sale_price\n",
        "         ]\n",
        "     }, {\n",
        "        \"table_name\": \"orders\",\n",
        "        \"column_names\": [\n",
        "            sent_to_warehouse,\n",
        "            received_by_warehouse,\n",
        "            split_shipment_order_type\n",
        "         ]\n",
        "     }, {\n",
        "        \"table_name\": \"monthly_subscription_order_retention\",\n",
        "        \"column_names\": [\n",
        "            next_subscription_order_churn_type,\n",
        "            sub_count\n",
        "         ]\n",
        "     },  {\n",
        "         \"table_name\":\"user_clusters\",\n",
        "         \"column_names\": [\n",
        "            user_id,\n",
        "            cluster_version,\n",
        "            user_added_to_cluster_date,\n",
        "            bd_id\n",
        "         ]\n",
        "      }, {\n",
        "         \"table_name\":\"order_delivery_performance\",\n",
        "         \"column_names\": [\n",
        "            order_id,\n",
        "            shipment_id,\n",
        "            tracking_number,\n",
        "            ship2d_busines\n",
        "         ]\n",
        "      }\n",
        "]\n",
        "\n",
        "Here's a simple training example for you to learn,\n",
        "The question is \"Tell me the most used coupon code for every coupon type.\"\n",
        "And the sql query would be something like \"SELECT coupon_type, coupon_code, SUM(coupon_redemptions) AS total_redemptions\n",
        "FROM bark-dataengineering-poc.data_mart.promos\n",
        "GROUP BY coupon_type, coupon_code\n",
        "ORDER BY total_redemptions DESC;\"\n",
        "\n",
        "Give me the sql query result of the following question.\n"
      ],
      "metadata": {
        "colab": {
          "base_uri": "https://localhost:8080/"
        },
        "id": "htQ8V5v6ycvl",
        "outputId": "a2657992-25e2-4ebf-aaa1-741be907f8b9"
      },
      "execution_count": null,
      "outputs": [
        {
          "output_type": "stream",
          "name": "stdout",
          "text": [
            "Overwriting prefix_file.txt\n"
          ]
        }
      ]
    },
    {
      "cell_type": "code",
      "source": [
        "build_prefix(QUESTION)"
      ],
      "metadata": {
        "colab": {
          "base_uri": "https://localhost:8080/"
        },
        "id": "JZhdlRxZyizu",
        "outputId": "79e6d900-ee4f-411f-f74f-482a91330605"
      },
      "execution_count": null,
      "outputs": [
        {
          "output_type": "stream",
          "name": "stdout",
          "text": [
            "Question: Top 3 user id with highest number of orders from order_line_items\n",
            "Response from Model: ```sql\n",
            "SELECT user_id, count(*) AS total_orders\n",
            "FROM order_line_items\n",
            "GROUP BY user_id\n",
            "ORDER BY total_orders DESC\n",
            "LIMIT 3;\n",
            "```\n"
          ]
        }
      ]
    }
  ]
}